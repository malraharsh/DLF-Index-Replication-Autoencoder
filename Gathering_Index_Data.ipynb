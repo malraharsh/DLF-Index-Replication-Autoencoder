{
  "nbformat": 4,
  "nbformat_minor": 0,
  "metadata": {
    "colab": {
      "name": "Gathering Index Data.ipynb",
      "provenance": [],
      "collapsed_sections": [],
      "authorship_tag": "ABX9TyMsfJeTX7CgQAvovigFra1F",
      "include_colab_link": true
    },
    "kernelspec": {
      "name": "python3",
      "display_name": "Python 3"
    }
  },
  "cells": [
    {
      "cell_type": "markdown",
      "metadata": {
        "id": "view-in-github",
        "colab_type": "text"
      },
      "source": [
        "<a href=\"https://colab.research.google.com/github/malraharsh/DLF-Index-Replication-Autoencoder/blob/master/Gathering_Index_Data.ipynb\" target=\"_parent\"><img src=\"https://colab.research.google.com/assets/colab-badge.svg\" alt=\"Open In Colab\"/></a>"
      ]
    },
    {
      "cell_type": "code",
      "metadata": {
        "id": "JIw4pHv44CaN",
        "colab_type": "code",
        "colab": {}
      },
      "source": [
        "!git clone https://github.com/PacktPublishing/Hands-On-Deep-Learning-for-Finance.git"
      ],
      "execution_count": null,
      "outputs": []
    },
    {
      "cell_type": "code",
      "metadata": {
        "id": "T7ei-aFd1fsM",
        "colab_type": "code",
        "colab": {
          "base_uri": "https://localhost:8080/",
          "height": 34
        },
        "outputId": "7dd62431-aee7-476d-ecec-5a5b4c3a436c"
      },
      "source": [
        "%cd /content/Hands-On-Deep-Learning-for-Finance/Index Replication by Auto-encoders"
      ],
      "execution_count": 2,
      "outputs": [
        {
          "output_type": "stream",
          "text": [
            "/content/Hands-On-Deep-Learning-for-Finance/Index Replication by Auto-encoders\n"
          ],
          "name": "stdout"
        }
      ]
    },
    {
      "cell_type": "code",
      "metadata": {
        "id": "Zo57MT0S4PL-",
        "colab_type": "code",
        "colab": {}
      },
      "source": [
        "import pandas as pd\n",
        "import numpy as np\n",
        "import matplotlib.pyplot as plt\n",
        "\n",
        "from sklearn.preprocessing import MinMaxScaler"
      ],
      "execution_count": 39,
      "outputs": []
    },
    {
      "cell_type": "code",
      "metadata": {
        "id": "o8xUgU4i1_d5",
        "colab_type": "code",
        "colab": {
          "base_uri": "https://localhost:8080/",
          "height": 34
        },
        "outputId": "39220f29-5540-4d3e-aebf-92c7c7f6e58a"
      },
      "source": [
        "!ls data"
      ],
      "execution_count": 40,
      "outputs": [
        {
          "output_type": "stream",
          "text": [
            "nasdaq100_6y.pkl  nasdaq100_index_6y.pkl  nasdaq100_stocks.csv\n"
          ],
          "name": "stdout"
        }
      ]
    },
    {
      "cell_type": "code",
      "metadata": {
        "id": "FdwAc7avBVru",
        "colab_type": "code",
        "colab": {}
      },
      "source": [
        "#loading pkl data\n",
        "stocks_data = pd.read_pickle('data/nasdaq100_6y.pkl')\n",
        "index_data = pd.read_pickle('data/nasdaq100_index_6y.pkl')\n",
        "stocks_names = stocks_data.columns.values"
      ],
      "execution_count": 58,
      "outputs": []
    },
    {
      "cell_type": "code",
      "metadata": {
        "id": "lfpKiKQ-CBEI",
        "colab_type": "code",
        "colab": {
          "base_uri": "https://localhost:8080/",
          "height": 369
        },
        "outputId": "59fe28af-e4ec-4b9e-a8a8-39c25e1d3a26"
      },
      "source": [
        "stocks_data.head()"
      ],
      "execution_count": 42,
      "outputs": [
        {
          "output_type": "execute_result",
          "data": {
            "text/html": [
              "<div>\n",
              "<style scoped>\n",
              "    .dataframe tbody tr th:only-of-type {\n",
              "        vertical-align: middle;\n",
              "    }\n",
              "\n",
              "    .dataframe tbody tr th {\n",
              "        vertical-align: top;\n",
              "    }\n",
              "\n",
              "    .dataframe thead th {\n",
              "        text-align: right;\n",
              "    }\n",
              "</style>\n",
              "<table border=\"1\" class=\"dataframe\">\n",
              "  <thead>\n",
              "    <tr style=\"text-align: right;\">\n",
              "      <th></th>\n",
              "      <th>ATVI</th>\n",
              "      <th>ADBE</th>\n",
              "      <th>AMD</th>\n",
              "      <th>ALXN</th>\n",
              "      <th>ALGN</th>\n",
              "      <th>GOOGL</th>\n",
              "      <th>GOOG</th>\n",
              "      <th>AMZN</th>\n",
              "      <th>AAL</th>\n",
              "      <th>AMGN</th>\n",
              "      <th>ADI</th>\n",
              "      <th>AAPL</th>\n",
              "      <th>AMAT</th>\n",
              "      <th>ASML</th>\n",
              "      <th>ADSK</th>\n",
              "      <th>ADP</th>\n",
              "      <th>BIDU</th>\n",
              "      <th>BIIB</th>\n",
              "      <th>BMRN</th>\n",
              "      <th>BKNG</th>\n",
              "      <th>AVGO</th>\n",
              "      <th>CDNS</th>\n",
              "      <th>CELG</th>\n",
              "      <th>CERN</th>\n",
              "      <th>CHTR</th>\n",
              "      <th>CHKP</th>\n",
              "      <th>CTAS</th>\n",
              "      <th>CSCO</th>\n",
              "      <th>CTXS</th>\n",
              "      <th>CTSH</th>\n",
              "      <th>CMCSA</th>\n",
              "      <th>COST</th>\n",
              "      <th>CSX</th>\n",
              "      <th>CTRP</th>\n",
              "      <th>DLTR</th>\n",
              "      <th>EBAY</th>\n",
              "      <th>EA</th>\n",
              "      <th>EXPE</th>\n",
              "      <th>FB</th>\n",
              "      <th>FAST</th>\n",
              "      <th>...</th>\n",
              "      <th>MAR</th>\n",
              "      <th>MELI</th>\n",
              "      <th>MCHP</th>\n",
              "      <th>MU</th>\n",
              "      <th>MSFT</th>\n",
              "      <th>MDLZ</th>\n",
              "      <th>MNST</th>\n",
              "      <th>MYL</th>\n",
              "      <th>NTAP</th>\n",
              "      <th>NFLX</th>\n",
              "      <th>NVDA</th>\n",
              "      <th>NXPI</th>\n",
              "      <th>ORLY</th>\n",
              "      <th>PCAR</th>\n",
              "      <th>PAYX</th>\n",
              "      <th>PEP</th>\n",
              "      <th>QCOM</th>\n",
              "      <th>REGN</th>\n",
              "      <th>ROST</th>\n",
              "      <th>SIRI</th>\n",
              "      <th>SWKS</th>\n",
              "      <th>SBUX</th>\n",
              "      <th>SYMC</th>\n",
              "      <th>SNPS</th>\n",
              "      <th>TMUS</th>\n",
              "      <th>TTWO</th>\n",
              "      <th>TSLA</th>\n",
              "      <th>TXN</th>\n",
              "      <th>ULTA</th>\n",
              "      <th>UAL</th>\n",
              "      <th>VRSN</th>\n",
              "      <th>VRSK</th>\n",
              "      <th>VRTX</th>\n",
              "      <th>WBA</th>\n",
              "      <th>WDAY</th>\n",
              "      <th>WDC</th>\n",
              "      <th>WLTW</th>\n",
              "      <th>WYNN</th>\n",
              "      <th>XEL</th>\n",
              "      <th>XLNX</th>\n",
              "    </tr>\n",
              "    <tr>\n",
              "      <th>Date</th>\n",
              "      <th></th>\n",
              "      <th></th>\n",
              "      <th></th>\n",
              "      <th></th>\n",
              "      <th></th>\n",
              "      <th></th>\n",
              "      <th></th>\n",
              "      <th></th>\n",
              "      <th></th>\n",
              "      <th></th>\n",
              "      <th></th>\n",
              "      <th></th>\n",
              "      <th></th>\n",
              "      <th></th>\n",
              "      <th></th>\n",
              "      <th></th>\n",
              "      <th></th>\n",
              "      <th></th>\n",
              "      <th></th>\n",
              "      <th></th>\n",
              "      <th></th>\n",
              "      <th></th>\n",
              "      <th></th>\n",
              "      <th></th>\n",
              "      <th></th>\n",
              "      <th></th>\n",
              "      <th></th>\n",
              "      <th></th>\n",
              "      <th></th>\n",
              "      <th></th>\n",
              "      <th></th>\n",
              "      <th></th>\n",
              "      <th></th>\n",
              "      <th></th>\n",
              "      <th></th>\n",
              "      <th></th>\n",
              "      <th></th>\n",
              "      <th></th>\n",
              "      <th></th>\n",
              "      <th></th>\n",
              "      <th></th>\n",
              "      <th></th>\n",
              "      <th></th>\n",
              "      <th></th>\n",
              "      <th></th>\n",
              "      <th></th>\n",
              "      <th></th>\n",
              "      <th></th>\n",
              "      <th></th>\n",
              "      <th></th>\n",
              "      <th></th>\n",
              "      <th></th>\n",
              "      <th></th>\n",
              "      <th></th>\n",
              "      <th></th>\n",
              "      <th></th>\n",
              "      <th></th>\n",
              "      <th></th>\n",
              "      <th></th>\n",
              "      <th></th>\n",
              "      <th></th>\n",
              "      <th></th>\n",
              "      <th></th>\n",
              "      <th></th>\n",
              "      <th></th>\n",
              "      <th></th>\n",
              "      <th></th>\n",
              "      <th></th>\n",
              "      <th></th>\n",
              "      <th></th>\n",
              "      <th></th>\n",
              "      <th></th>\n",
              "      <th></th>\n",
              "      <th></th>\n",
              "      <th></th>\n",
              "      <th></th>\n",
              "      <th></th>\n",
              "      <th></th>\n",
              "      <th></th>\n",
              "      <th></th>\n",
              "      <th></th>\n",
              "    </tr>\n",
              "  </thead>\n",
              "  <tbody>\n",
              "    <tr>\n",
              "      <th>2013-01-02</th>\n",
              "      <td>10.310681</td>\n",
              "      <td>38.340000</td>\n",
              "      <td>2.53</td>\n",
              "      <td>100.050003</td>\n",
              "      <td>28.400000</td>\n",
              "      <td>361.987000</td>\n",
              "      <td>359.288177</td>\n",
              "      <td>257.309998</td>\n",
              "      <td>13.317790</td>\n",
              "      <td>76.250526</td>\n",
              "      <td>37.301983</td>\n",
              "      <td>69.319641</td>\n",
              "      <td>10.500547</td>\n",
              "      <td>62.326241</td>\n",
              "      <td>36.939999</td>\n",
              "      <td>43.842960</td>\n",
              "      <td>104.120003</td>\n",
              "      <td>150.000000</td>\n",
              "      <td>51.919998</td>\n",
              "      <td>638.400024</td>\n",
              "      <td>28.453209</td>\n",
              "      <td>14.00</td>\n",
              "      <td>40.549999</td>\n",
              "      <td>40.124756</td>\n",
              "      <td>78.099998</td>\n",
              "      <td>49.240002</td>\n",
              "      <td>39.041798</td>\n",
              "      <td>16.701340</td>\n",
              "      <td>53.728039</td>\n",
              "      <td>37.100945</td>\n",
              "      <td>17.213152</td>\n",
              "      <td>87.877045</td>\n",
              "      <td>17.742678</td>\n",
              "      <td>11.580</td>\n",
              "      <td>39.900002</td>\n",
              "      <td>22.383545</td>\n",
              "      <td>14.55</td>\n",
              "      <td>59.622776</td>\n",
              "      <td>28.000000</td>\n",
              "      <td>20.283932</td>\n",
              "      <td>...</td>\n",
              "      <td>35.534439</td>\n",
              "      <td>80.506470</td>\n",
              "      <td>28.502575</td>\n",
              "      <td>6.63</td>\n",
              "      <td>23.584339</td>\n",
              "      <td>23.695293</td>\n",
              "      <td>18.076666</td>\n",
              "      <td>27.700001</td>\n",
              "      <td>30.435581</td>\n",
              "      <td>13.144286</td>\n",
              "      <td>11.810995</td>\n",
              "      <td>27.520674</td>\n",
              "      <td>89.870003</td>\n",
              "      <td>37.212318</td>\n",
              "      <td>26.137842</td>\n",
              "      <td>57.363400</td>\n",
              "      <td>52.772877</td>\n",
              "      <td>181.199997</td>\n",
              "      <td>24.859806</td>\n",
              "      <td>2.955661</td>\n",
              "      <td>20.185839</td>\n",
              "      <td>23.936625</td>\n",
              "      <td>13.826466</td>\n",
              "      <td>32.279999</td>\n",
              "      <td>15.774906</td>\n",
              "      <td>11.48</td>\n",
              "      <td>35.360001</td>\n",
              "      <td>27.187948</td>\n",
              "      <td>101.529999</td>\n",
              "      <td>24.190001</td>\n",
              "      <td>39.849998</td>\n",
              "      <td>52.786572</td>\n",
              "      <td>43.650002</td>\n",
              "      <td>33.046200</td>\n",
              "      <td>52.910000</td>\n",
              "      <td>36.001884</td>\n",
              "      <td>83.655464</td>\n",
              "      <td>99.407043</td>\n",
              "      <td>21.625166</td>\n",
              "      <td>31.863600</td>\n",
              "    </tr>\n",
              "    <tr>\n",
              "      <th>2013-01-03</th>\n",
              "      <td>10.367179</td>\n",
              "      <td>37.750000</td>\n",
              "      <td>2.49</td>\n",
              "      <td>98.480003</td>\n",
              "      <td>29.170000</td>\n",
              "      <td>362.197205</td>\n",
              "      <td>359.496826</td>\n",
              "      <td>258.480011</td>\n",
              "      <td>13.012948</td>\n",
              "      <td>75.771561</td>\n",
              "      <td>36.700058</td>\n",
              "      <td>68.444672</td>\n",
              "      <td>10.473944</td>\n",
              "      <td>61.019608</td>\n",
              "      <td>36.369999</td>\n",
              "      <td>44.015667</td>\n",
              "      <td>104.980003</td>\n",
              "      <td>147.860001</td>\n",
              "      <td>52.169998</td>\n",
              "      <td>648.729980</td>\n",
              "      <td>28.601856</td>\n",
              "      <td>13.63</td>\n",
              "      <td>40.834999</td>\n",
              "      <td>40.005058</td>\n",
              "      <td>77.980003</td>\n",
              "      <td>47.180000</td>\n",
              "      <td>39.218452</td>\n",
              "      <td>16.791662</td>\n",
              "      <td>51.915298</td>\n",
              "      <td>36.720875</td>\n",
              "      <td>17.021000</td>\n",
              "      <td>88.777901</td>\n",
              "      <td>17.909809</td>\n",
              "      <td>11.675</td>\n",
              "      <td>39.480000</td>\n",
              "      <td>21.907387</td>\n",
              "      <td>14.74</td>\n",
              "      <td>59.226849</td>\n",
              "      <td>27.770000</td>\n",
              "      <td>20.347540</td>\n",
              "      <td>...</td>\n",
              "      <td>35.818428</td>\n",
              "      <td>80.956558</td>\n",
              "      <td>28.206999</td>\n",
              "      <td>6.90</td>\n",
              "      <td>23.268398</td>\n",
              "      <td>23.668636</td>\n",
              "      <td>17.403334</td>\n",
              "      <td>27.620001</td>\n",
              "      <td>30.320230</td>\n",
              "      <td>13.798572</td>\n",
              "      <td>11.820279</td>\n",
              "      <td>27.382231</td>\n",
              "      <td>90.209999</td>\n",
              "      <td>37.044407</td>\n",
              "      <td>26.178877</td>\n",
              "      <td>57.388214</td>\n",
              "      <td>52.528370</td>\n",
              "      <td>180.710007</td>\n",
              "      <td>26.841654</td>\n",
              "      <td>3.014383</td>\n",
              "      <td>20.036661</td>\n",
              "      <td>24.097651</td>\n",
              "      <td>13.762650</td>\n",
              "      <td>31.900000</td>\n",
              "      <td>15.661067</td>\n",
              "      <td>11.88</td>\n",
              "      <td>34.770000</td>\n",
              "      <td>26.834530</td>\n",
              "      <td>101.989998</td>\n",
              "      <td>24.930000</td>\n",
              "      <td>40.029999</td>\n",
              "      <td>53.394344</td>\n",
              "      <td>45.150002</td>\n",
              "      <td>32.811760</td>\n",
              "      <td>52.299999</td>\n",
              "      <td>35.653797</td>\n",
              "      <td>84.510071</td>\n",
              "      <td>100.476288</td>\n",
              "      <td>21.561975</td>\n",
              "      <td>31.803463</td>\n",
              "    </tr>\n",
              "    <tr>\n",
              "      <th>2013-01-04</th>\n",
              "      <td>10.517838</td>\n",
              "      <td>38.130001</td>\n",
              "      <td>2.59</td>\n",
              "      <td>97.620003</td>\n",
              "      <td>29.309999</td>\n",
              "      <td>369.354340</td>\n",
              "      <td>366.600616</td>\n",
              "      <td>259.149994</td>\n",
              "      <td>14.032263</td>\n",
              "      <td>76.105133</td>\n",
              "      <td>36.047298</td>\n",
              "      <td>66.538162</td>\n",
              "      <td>10.473944</td>\n",
              "      <td>60.394299</td>\n",
              "      <td>36.360001</td>\n",
              "      <td>44.406113</td>\n",
              "      <td>104.650002</td>\n",
              "      <td>145.929993</td>\n",
              "      <td>52.540001</td>\n",
              "      <td>648.409973</td>\n",
              "      <td>28.418230</td>\n",
              "      <td>13.43</td>\n",
              "      <td>41.044998</td>\n",
              "      <td>40.433987</td>\n",
              "      <td>77.599998</td>\n",
              "      <td>46.840000</td>\n",
              "      <td>39.599670</td>\n",
              "      <td>16.816288</td>\n",
              "      <td>52.451233</td>\n",
              "      <td>36.633167</td>\n",
              "      <td>17.012066</td>\n",
              "      <td>88.492058</td>\n",
              "      <td>18.420019</td>\n",
              "      <td>11.795</td>\n",
              "      <td>39.619999</td>\n",
              "      <td>22.045223</td>\n",
              "      <td>14.88</td>\n",
              "      <td>60.763378</td>\n",
              "      <td>28.760000</td>\n",
              "      <td>20.372988</td>\n",
              "      <td>...</td>\n",
              "      <td>35.937515</td>\n",
              "      <td>81.005486</td>\n",
              "      <td>28.046535</td>\n",
              "      <td>6.96</td>\n",
              "      <td>22.832916</td>\n",
              "      <td>23.757483</td>\n",
              "      <td>17.296667</td>\n",
              "      <td>28.200001</td>\n",
              "      <td>30.240374</td>\n",
              "      <td>13.711429</td>\n",
              "      <td>12.210264</td>\n",
              "      <td>27.036121</td>\n",
              "      <td>91.650002</td>\n",
              "      <td>37.420204</td>\n",
              "      <td>26.400450</td>\n",
              "      <td>57.470959</td>\n",
              "      <td>51.754105</td>\n",
              "      <td>181.070007</td>\n",
              "      <td>26.462637</td>\n",
              "      <td>3.033956</td>\n",
              "      <td>19.533176</td>\n",
              "      <td>24.236917</td>\n",
              "      <td>13.911550</td>\n",
              "      <td>31.650000</td>\n",
              "      <td>15.823694</td>\n",
              "      <td>12.20</td>\n",
              "      <td>34.400002</td>\n",
              "      <td>26.775625</td>\n",
              "      <td>97.849998</td>\n",
              "      <td>25.850000</td>\n",
              "      <td>40.040001</td>\n",
              "      <td>53.304672</td>\n",
              "      <td>45.849998</td>\n",
              "      <td>32.282124</td>\n",
              "      <td>52.189999</td>\n",
              "      <td>35.537758</td>\n",
              "      <td>84.485657</td>\n",
              "      <td>101.688660</td>\n",
              "      <td>21.640961</td>\n",
              "      <td>31.356745</td>\n",
              "    </tr>\n",
              "    <tr>\n",
              "      <th>2013-01-07</th>\n",
              "      <td>10.527254</td>\n",
              "      <td>37.939999</td>\n",
              "      <td>2.67</td>\n",
              "      <td>97.309998</td>\n",
              "      <td>28.940001</td>\n",
              "      <td>367.742737</td>\n",
              "      <td>365.001007</td>\n",
              "      <td>268.459991</td>\n",
              "      <td>14.137052</td>\n",
              "      <td>75.720253</td>\n",
              "      <td>36.157497</td>\n",
              "      <td>66.146751</td>\n",
              "      <td>10.349777</td>\n",
              "      <td>59.414318</td>\n",
              "      <td>36.090000</td>\n",
              "      <td>44.233406</td>\n",
              "      <td>102.290001</td>\n",
              "      <td>146.419998</td>\n",
              "      <td>52.139999</td>\n",
              "      <td>657.380005</td>\n",
              "      <td>28.260838</td>\n",
              "      <td>13.41</td>\n",
              "      <td>42.865002</td>\n",
              "      <td>41.406555</td>\n",
              "      <td>77.400002</td>\n",
              "      <td>47.200001</td>\n",
              "      <td>39.515987</td>\n",
              "      <td>16.660280</td>\n",
              "      <td>53.720150</td>\n",
              "      <td>36.793961</td>\n",
              "      <td>16.936100</td>\n",
              "      <td>87.807762</td>\n",
              "      <td>17.997778</td>\n",
              "      <td>11.850</td>\n",
              "      <td>39.959999</td>\n",
              "      <td>22.350130</td>\n",
              "      <td>14.45</td>\n",
              "      <td>60.716251</td>\n",
              "      <td>29.420000</td>\n",
              "      <td>20.279684</td>\n",
              "      <td>...</td>\n",
              "      <td>35.735977</td>\n",
              "      <td>80.839165</td>\n",
              "      <td>28.012754</td>\n",
              "      <td>7.18</td>\n",
              "      <td>22.790224</td>\n",
              "      <td>23.686405</td>\n",
              "      <td>16.686666</td>\n",
              "      <td>27.910000</td>\n",
              "      <td>29.495008</td>\n",
              "      <td>14.171429</td>\n",
              "      <td>11.857423</td>\n",
              "      <td>26.838343</td>\n",
              "      <td>90.050003</td>\n",
              "      <td>37.012424</td>\n",
              "      <td>26.277353</td>\n",
              "      <td>57.462681</td>\n",
              "      <td>52.169762</td>\n",
              "      <td>182.529999</td>\n",
              "      <td>26.289110</td>\n",
              "      <td>3.014383</td>\n",
              "      <td>19.822216</td>\n",
              "      <td>24.249977</td>\n",
              "      <td>13.932821</td>\n",
              "      <td>31.420000</td>\n",
              "      <td>15.547228</td>\n",
              "      <td>12.16</td>\n",
              "      <td>34.340000</td>\n",
              "      <td>26.859772</td>\n",
              "      <td>96.320000</td>\n",
              "      <td>25.670000</td>\n",
              "      <td>40.060001</td>\n",
              "      <td>53.065544</td>\n",
              "      <td>47.290001</td>\n",
              "      <td>33.020153</td>\n",
              "      <td>52.169998</td>\n",
              "      <td>35.554348</td>\n",
              "      <td>84.241486</td>\n",
              "      <td>102.033867</td>\n",
              "      <td>21.411921</td>\n",
              "      <td>31.227875</td>\n",
              "    </tr>\n",
              "    <tr>\n",
              "      <th>2013-01-08</th>\n",
              "      <td>10.348347</td>\n",
              "      <td>38.139999</td>\n",
              "      <td>2.67</td>\n",
              "      <td>97.489998</td>\n",
              "      <td>28.250000</td>\n",
              "      <td>367.017029</td>\n",
              "      <td>364.280701</td>\n",
              "      <td>266.380005</td>\n",
              "      <td>14.441895</td>\n",
              "      <td>75.395241</td>\n",
              "      <td>35.784473</td>\n",
              "      <td>66.324783</td>\n",
              "      <td>10.207882</td>\n",
              "      <td>58.929001</td>\n",
              "      <td>36.299999</td>\n",
              "      <td>44.488701</td>\n",
              "      <td>101.089996</td>\n",
              "      <td>144.389999</td>\n",
              "      <td>51.840000</td>\n",
              "      <td>657.419983</td>\n",
              "      <td>28.068472</td>\n",
              "      <td>13.68</td>\n",
              "      <td>45.705002</td>\n",
              "      <td>40.862915</td>\n",
              "      <td>77.199997</td>\n",
              "      <td>48.220001</td>\n",
              "      <td>39.627563</td>\n",
              "      <td>16.676702</td>\n",
              "      <td>53.956600</td>\n",
              "      <td>36.301826</td>\n",
              "      <td>17.052286</td>\n",
              "      <td>87.643173</td>\n",
              "      <td>18.041759</td>\n",
              "      <td>11.680</td>\n",
              "      <td>39.009998</td>\n",
              "      <td>22.003452</td>\n",
              "      <td>13.77</td>\n",
              "      <td>61.036743</td>\n",
              "      <td>29.059999</td>\n",
              "      <td>20.169428</td>\n",
              "      <td>...</td>\n",
              "      <td>35.635212</td>\n",
              "      <td>81.631676</td>\n",
              "      <td>27.514492</td>\n",
              "      <td>7.23</td>\n",
              "      <td>22.670679</td>\n",
              "      <td>23.704178</td>\n",
              "      <td>16.910000</td>\n",
              "      <td>27.780001</td>\n",
              "      <td>28.838381</td>\n",
              "      <td>13.880000</td>\n",
              "      <td>11.597429</td>\n",
              "      <td>26.254900</td>\n",
              "      <td>89.199997</td>\n",
              "      <td>36.692593</td>\n",
              "      <td>26.219908</td>\n",
              "      <td>57.636444</td>\n",
              "      <td>52.088257</td>\n",
              "      <td>176.630005</td>\n",
              "      <td>25.946625</td>\n",
              "      <td>3.073104</td>\n",
              "      <td>19.029699</td>\n",
              "      <td>24.206448</td>\n",
              "      <td>13.769738</td>\n",
              "      <td>31.459999</td>\n",
              "      <td>15.173183</td>\n",
              "      <td>11.78</td>\n",
              "      <td>33.680000</td>\n",
              "      <td>26.548428</td>\n",
              "      <td>95.089996</td>\n",
              "      <td>25.620001</td>\n",
              "      <td>39.889999</td>\n",
              "      <td>53.703217</td>\n",
              "      <td>48.500000</td>\n",
              "      <td>33.141697</td>\n",
              "      <td>51.869999</td>\n",
              "      <td>34.791882</td>\n",
              "      <td>83.826393</td>\n",
              "      <td>101.949684</td>\n",
              "      <td>21.451403</td>\n",
              "      <td>30.592144</td>\n",
              "    </tr>\n",
              "  </tbody>\n",
              "</table>\n",
              "<p>5 rows × 98 columns</p>\n",
              "</div>"
            ],
            "text/plain": [
              "                 ATVI       ADBE   AMD  ...        WYNN        XEL       XLNX\n",
              "Date                                    ...                                  \n",
              "2013-01-02  10.310681  38.340000  2.53  ...   99.407043  21.625166  31.863600\n",
              "2013-01-03  10.367179  37.750000  2.49  ...  100.476288  21.561975  31.803463\n",
              "2013-01-04  10.517838  38.130001  2.59  ...  101.688660  21.640961  31.356745\n",
              "2013-01-07  10.527254  37.939999  2.67  ...  102.033867  21.411921  31.227875\n",
              "2013-01-08  10.348347  38.139999  2.67  ...  101.949684  21.451403  30.592144\n",
              "\n",
              "[5 rows x 98 columns]"
            ]
          },
          "metadata": {
            "tags": []
          },
          "execution_count": 42
        }
      ]
    },
    {
      "cell_type": "code",
      "metadata": {
        "id": "s1GYeSTVCOLk",
        "colab_type": "code",
        "colab": {
          "base_uri": "https://localhost:8080/",
          "height": 136
        },
        "outputId": "b3921066-1cd1-4e00-8472-999e32a02a68"
      },
      "source": [
        "index_data.head()"
      ],
      "execution_count": 43,
      "outputs": [
        {
          "output_type": "execute_result",
          "data": {
            "text/plain": [
              "Date\n",
              "2013-01-02    2746.469971\n",
              "2013-01-03    2732.260010\n",
              "2013-01-04    2724.489990\n",
              "2013-01-07    2724.219971\n",
              "2013-01-08    2718.719971\n",
              "Name: ^NDX, dtype: float64"
            ]
          },
          "metadata": {
            "tags": []
          },
          "execution_count": 43
        }
      ]
    },
    {
      "cell_type": "code",
      "metadata": {
        "id": "IPjPZPWhCP4z",
        "colab_type": "code",
        "colab": {
          "base_uri": "https://localhost:8080/",
          "height": 238
        },
        "outputId": "1ea5efa6-56f7-4f69-e5cb-f627013f2fb7"
      },
      "source": [
        "stocks_names"
      ],
      "execution_count": 44,
      "outputs": [
        {
          "output_type": "execute_result",
          "data": {
            "text/plain": [
              "array(['ATVI', 'ADBE', 'AMD', 'ALXN', 'ALGN', 'GOOGL', 'GOOG', 'AMZN',\n",
              "       'AAL', 'AMGN', 'ADI', 'AAPL', 'AMAT', 'ASML', 'ADSK', 'ADP',\n",
              "       'BIDU', 'BIIB', 'BMRN', 'BKNG', 'AVGO', 'CDNS', 'CELG', 'CERN',\n",
              "       'CHTR', 'CHKP', 'CTAS', 'CSCO', 'CTXS', 'CTSH', 'CMCSA', 'COST',\n",
              "       'CSX', 'CTRP', 'DLTR', 'EBAY', 'EA', 'EXPE', 'FB', 'FAST', 'FISV',\n",
              "       'FOX', 'FOXA', 'GILD', 'HAS', 'HSIC', 'IDXX', 'ILMN', 'INCY',\n",
              "       'INTC', 'INTU', 'ISRG', 'JBHT', 'KLAC', 'LRCX', 'LBTYA', 'LBTYK',\n",
              "       'LULU', 'MAR', 'MELI', 'MCHP', 'MU', 'MSFT', 'MDLZ', 'MNST', 'MYL',\n",
              "       'NTAP', 'NFLX', 'NVDA', 'NXPI', 'ORLY', 'PCAR', 'PAYX', 'PEP',\n",
              "       'QCOM', 'REGN', 'ROST', 'SIRI', 'SWKS', 'SBUX', 'SYMC', 'SNPS',\n",
              "       'TMUS', 'TTWO', 'TSLA', 'TXN', 'ULTA', 'UAL', 'VRSN', 'VRSK',\n",
              "       'VRTX', 'WBA', 'WDAY', 'WDC', 'WLTW', 'WYNN', 'XEL', 'XLNX'],\n",
              "      dtype=object)"
            ]
          },
          "metadata": {
            "tags": []
          },
          "execution_count": 44
        }
      ]
    },
    {
      "cell_type": "code",
      "metadata": {
        "id": "DgVouIJtCSVq",
        "colab_type": "code",
        "colab": {}
      },
      "source": [
        "#splitting data\n",
        "from sklearn.model_selection import train_test_split\n",
        "X_train, X_test, y_train, y_test = train_test_split(stocks_data, index_data[:, np.newaxis], test_size=0.2, shuffle=True)"
      ],
      "execution_count": 59,
      "outputs": []
    },
    {
      "cell_type": "code",
      "metadata": {
        "id": "2xa-hZzrRmrQ",
        "colab_type": "code",
        "colab": {}
      },
      "source": [
        "stocks_scaler = MinMaxScaler([0, 1])\n",
        "X_train = stocks_scaler.fit_transform(X_train)\n",
        "X_test = stocks_scaler.transform(X_test)\n",
        "\n",
        "idx_scaler = MinMaxScaler([0, 1])\n",
        "y_train = idx_scaler.fit_transform(y_train)\n",
        "y_test = idx_scaler.transform(y_test)"
      ],
      "execution_count": 60,
      "outputs": []
    },
    {
      "cell_type": "code",
      "metadata": {
        "id": "wl6WpjwSCvFk",
        "colab_type": "code",
        "colab": {
          "base_uri": "https://localhost:8080/",
          "height": 34
        },
        "outputId": "a592e1b5-4edf-4dc9-9bb9-8d9ce7042de5"
      },
      "source": [
        "#creating model\n",
        "import tensorflow\n",
        "import keras\n",
        "from tensorflow.keras.layers import Dense\n",
        "from tensorflow.keras.models import Sequential\n"
      ],
      "execution_count": 47,
      "outputs": [
        {
          "output_type": "stream",
          "text": [
            "Using TensorFlow backend.\n"
          ],
          "name": "stderr"
        }
      ]
    },
    {
      "cell_type": "code",
      "metadata": {
        "id": "ILJlxWrtDO_B",
        "colab_type": "code",
        "colab": {
          "base_uri": "https://localhost:8080/",
          "height": 289
        },
        "outputId": "98f4c496-a5e5-4e84-ecba-67446ff2128f"
      },
      "source": [
        "n_features = X_train.shape[1]\n",
        "\n",
        "model = Sequential([Dense(8, input_shape=(n_features, ), activation='relu'),\n",
        "                    Dense(4, activation='relu'),\n",
        "                    Dense(8, activation='relu'),\n",
        "                    Dense(n_features, activation='sigmoid')])\n",
        "model.summary()"
      ],
      "execution_count": 50,
      "outputs": [
        {
          "output_type": "stream",
          "text": [
            "Model: \"sequential\"\n",
            "_________________________________________________________________\n",
            "Layer (type)                 Output Shape              Param #   \n",
            "=================================================================\n",
            "dense (Dense)                (None, 8)                 792       \n",
            "_________________________________________________________________\n",
            "dense_1 (Dense)              (None, 4)                 36        \n",
            "_________________________________________________________________\n",
            "dense_2 (Dense)              (None, 8)                 40        \n",
            "_________________________________________________________________\n",
            "dense_3 (Dense)              (None, 98)                882       \n",
            "=================================================================\n",
            "Total params: 1,750\n",
            "Trainable params: 1,750\n",
            "Non-trainable params: 0\n",
            "_________________________________________________________________\n"
          ],
          "name": "stdout"
        }
      ]
    },
    {
      "cell_type": "code",
      "metadata": {
        "id": "Yrx0ezFGQ7rU",
        "colab_type": "code",
        "colab": {}
      },
      "source": [
        "model.compile(loss='mse', optimizer='Adam')"
      ],
      "execution_count": 52,
      "outputs": []
    },
    {
      "cell_type": "code",
      "metadata": {
        "id": "9QCSy-JJRNx4",
        "colab_type": "code",
        "colab": {
          "base_uri": "https://localhost:8080/",
          "height": 1000
        },
        "outputId": "662e7857-6bd3-4a3a-9352-05b740293c64"
      },
      "source": [
        "epochs = 30\n",
        "batch_size = 1\n",
        "\n",
        "history = model.fit(X_train,\n",
        "                    y_train,\n",
        "                    verbose=1,\n",
        "                    epochs=epochs,\n",
        "                    batch_size=batch_size)"
      ],
      "execution_count": 63,
      "outputs": [
        {
          "output_type": "stream",
          "text": [
            "Epoch 1/30\n",
            "1208/1208 [==============================] - 2s 1ms/step - loss: 0.0012\n",
            "Epoch 2/30\n",
            "1208/1208 [==============================] - 2s 1ms/step - loss: 0.0011\n",
            "Epoch 3/30\n",
            "1208/1208 [==============================] - 2s 1ms/step - loss: 0.0011\n",
            "Epoch 4/30\n",
            "1208/1208 [==============================] - 2s 1ms/step - loss: 9.8311e-04\n",
            "Epoch 5/30\n",
            "1208/1208 [==============================] - 1s 1ms/step - loss: 9.9320e-04\n",
            "Epoch 6/30\n",
            "1208/1208 [==============================] - 1s 1ms/step - loss: 8.6548e-04\n",
            "Epoch 7/30\n",
            "1208/1208 [==============================] - 1s 1ms/step - loss: 8.0750e-04\n",
            "Epoch 8/30\n",
            "1208/1208 [==============================] - 1s 1ms/step - loss: 7.4219e-04\n",
            "Epoch 9/30\n",
            "1208/1208 [==============================] - 2s 1ms/step - loss: 6.4431e-04\n",
            "Epoch 10/30\n",
            "1208/1208 [==============================] - 1s 1ms/step - loss: 6.1289e-04\n",
            "Epoch 11/30\n",
            "1208/1208 [==============================] - 1s 1ms/step - loss: 6.1719e-04\n",
            "Epoch 12/30\n",
            "1208/1208 [==============================] - 1s 1ms/step - loss: 5.3738e-04\n",
            "Epoch 13/30\n",
            "1208/1208 [==============================] - 1s 1ms/step - loss: 4.8344e-04\n",
            "Epoch 14/30\n",
            "1208/1208 [==============================] - 2s 1ms/step - loss: 4.9493e-04\n",
            "Epoch 15/30\n",
            "1208/1208 [==============================] - 2s 1ms/step - loss: 4.8658e-04\n",
            "Epoch 16/30\n",
            "1208/1208 [==============================] - 1s 1ms/step - loss: 4.2273e-04\n",
            "Epoch 17/30\n",
            "1208/1208 [==============================] - 2s 1ms/step - loss: 4.7556e-04\n",
            "Epoch 18/30\n",
            "1208/1208 [==============================] - 2s 1ms/step - loss: 4.0028e-04\n",
            "Epoch 19/30\n",
            "1208/1208 [==============================] - 2s 1ms/step - loss: 4.7609e-04\n",
            "Epoch 20/30\n",
            "1208/1208 [==============================] - 1s 1ms/step - loss: 3.8118e-04\n",
            "Epoch 21/30\n",
            "1208/1208 [==============================] - 2s 1ms/step - loss: 3.5661e-04\n",
            "Epoch 22/30\n",
            "1208/1208 [==============================] - 2s 1ms/step - loss: 3.5755e-04\n",
            "Epoch 23/30\n",
            "1208/1208 [==============================] - 2s 1ms/step - loss: 3.5191e-04\n",
            "Epoch 24/30\n",
            "1208/1208 [==============================] - 2s 1ms/step - loss: 3.4460e-04\n",
            "Epoch 25/30\n",
            "1208/1208 [==============================] - 2s 1ms/step - loss: 3.3711e-04\n",
            "Epoch 26/30\n",
            "1208/1208 [==============================] - 2s 1ms/step - loss: 3.2425e-04\n",
            "Epoch 27/30\n",
            "1208/1208 [==============================] - 2s 1ms/step - loss: 2.9837e-04\n",
            "Epoch 28/30\n",
            "1208/1208 [==============================] - 2s 1ms/step - loss: 2.8194e-04\n",
            "Epoch 29/30\n",
            "1208/1208 [==============================] - 1s 1ms/step - loss: 3.0134e-04\n",
            "Epoch 30/30\n",
            "1208/1208 [==============================] - 1s 1ms/step - loss: 2.8127e-04\n"
          ],
          "name": "stdout"
        }
      ]
    },
    {
      "cell_type": "code",
      "metadata": {
        "id": "6eejMAxXS-zL",
        "colab_type": "code",
        "colab": {
          "base_uri": "https://localhost:8080/",
          "height": 279
        },
        "outputId": "ea1fdecf-0a84-4a0c-a809-56ebca365edf"
      },
      "source": [
        "plt.plot(history.history['loss'])\n",
        "plt.xlabel('epochs')\n",
        "plt.ylabel('loss')\n",
        "plt.show()"
      ],
      "execution_count": 65,
      "outputs": [
        {
          "output_type": "display_data",
          "data": {
            "image/png": "[encoded data removed]",
            "text/plain": [
              "<Figure size 432x288 with 1 Axes>"
            ]
          },
          "metadata": {
            "tags": [],
            "needs_background": "light"
          }
        }
      ]
    },
    {
      "cell_type": "code",
      "metadata": {
        "id": "c0coh9lcTcbn",
        "colab_type": "code",
        "colab": {}
      },
      "source": [
        "#saving the model weights\n",
        "model.save_weights('vanillaAE.h5')\n",
        "# model.load_weights('vanillaAE.h5')"
      ],
      "execution_count": 66,
      "outputs": []
    },
    {
      "cell_type": "code",
      "metadata": {
        "id": "DCyvKRP0TqAx",
        "colab_type": "code",
        "colab": {
          "base_uri": "https://localhost:8080/",
          "height": 51
        },
        "outputId": "0e82bcbe-b9d5-42b9-a375-c51fb32072ac"
      },
      "source": [
        "#evaluating model\n",
        "\n",
        "test_score = model.evaluate(X_test, y_test)\n",
        "print('The error is {}'.format(test_score))"
      ],
      "execution_count": 70,
      "outputs": [
        {
          "output_type": "stream",
          "text": [
            "10/10 [==============================] - 0s 1ms/step - loss: 3.8569e-04\n",
            "The error is 0.00038568611489608884\n"
          ],
          "name": "stdout"
        }
      ]
    },
    {
      "cell_type": "code",
      "metadata": {
        "id": "sOjxJyu_UQhn",
        "colab_type": "code",
        "colab": {
          "base_uri": "https://localhost:8080/",
          "height": 51
        },
        "outputId": "542bdd20-7e73-42b3-e211-bede2a2e6315"
      },
      "source": [
        "#reconstructing the data\n",
        "X_train_pred = model.predict(X_train)\n",
        "X_test_pred = model.predict(X_test)\n",
        "\n",
        "train_error = np.mean((X_train_pred - X_train)**2, axis=0)\n",
        "test_error = np.mean((X_test_pred - X_test)**2, axis=0)\n",
        "\n",
        "print('Train error is {}'.format(np.mean(train_error)))\n",
        "print('Test error is {}'.format(np.mean(test_error)))"
      ],
      "execution_count": 98,
      "outputs": [
        {
          "output_type": "stream",
          "text": [
            "Train error is 0.03507306758548166\n",
            "Test error is 0.03421189494439685\n"
          ],
          "name": "stdout"
        }
      ]
    },
    {
      "cell_type": "code",
      "metadata": {
        "id": "617DI_ERVYLF",
        "colab_type": "code",
        "colab": {
          "base_uri": "https://localhost:8080/",
          "height": 265
        },
        "outputId": "8c0658c8-eff8-4264-c528-0523a71c6de9"
      },
      "source": [
        "plt.plot(X_train[0, :])\n",
        "# plt.plot(X_train_pred)\n",
        "# plt.legend()\n",
        "plt.show()"
      ],
      "execution_count": 77,
      "outputs": [
        {
          "output_type": "display_data",
          "data": {
            "image/png": "[encoded data removed]",
            "text/plain": [
              "<Figure size 432x288 with 1 Axes>"
            ]
          },
          "metadata": {
            "tags": [],
            "needs_background": "light"
          }
        }
      ]
    },
    {
      "cell_type": "code",
      "metadata": {
        "id": "F3YHo2mOVhE2",
        "colab_type": "code",
        "colab": {}
      },
      "source": [
        "sorted_idx = np.argsort(train_error)\n",
        "sorted_error = train_error[sorted_idx]\n",
        "stocks_names = stocks_names[sorted_idx]"
      ],
      "execution_count": 85,
      "outputs": []
    },
    {
      "cell_type": "code",
      "metadata": {
        "id": "PeZDd1iaXd3Y",
        "colab_type": "code",
        "colab": {
          "base_uri": "https://localhost:8080/",
          "height": 279
        },
        "outputId": "3557ee36-4b73-480d-c2f6-42727d3b58d7"
      },
      "source": [
        "#plotting top k stocks ie with leat error\n",
        "top_k = 10\n",
        "\n",
        "plt.barh(2*np.arange(top_k), train_error[sorted_idx[:top_k]], tick_label=stocks_names[sorted_idx[:top_k]])\n",
        "plt.xlabel('MSE')\n",
        "plt.show()"
      ],
      "execution_count": 89,
      "outputs": [
        {
          "output_type": "display_data",
          "data": {
            "image/png": "[encoded data removed]",
            "text/plain": [
              "<Figure size 432x288 with 1 Axes>"
            ]
          },
          "metadata": {
            "tags": [],
            "needs_background": "light"
          }
        }
      ]
    },
    {
      "cell_type": "code",
      "metadata": {
        "id": "cSCjEqPFXHbK",
        "colab_type": "code",
        "colab": {
          "base_uri": "https://localhost:8080/",
          "height": 265
        },
        "outputId": "c2f37719-29e4-4208-863b-3ad0f1b022b4"
      },
      "source": [
        "#best reconstruction\n",
        "best_idx = sorted_idx[-1]\n",
        "plt.plot(y_[best_idx], label='orig')\n",
        "plt.plot(X_train_pred[best_idx], label='pred')\n",
        "plt.legend()\n",
        "plt.show()"
      ],
      "execution_count": 103,
      "outputs": [
        {
          "output_type": "display_data",
          "data": {
            "image/png": "[encoded data removed]",
            "text/plain": [
              "<Figure size 432x288 with 1 Axes>"
            ]
          },
          "metadata": {
            "tags": [],
            "needs_background": "light"
          }
        }
      ]
    },
    {
      "cell_type": "code",
      "metadata": {
        "id": "nx3U2RGrZSnq",
        "colab_type": "code",
        "colab": {}
      },
      "source": [
        "train_corr = np.corrcoef(X_train, X_train_pred)"
      ],
      "execution_count": null,
      "outputs": []
    },
    {
      "cell_type": "code",
      "metadata": {
        "id": "K4TBGtsyawSm",
        "colab_type": "code",
        "colab": {}
      },
      "source": [
        ""
      ],
      "execution_count": null,
      "outputs": []
    },
    {
      "cell_type": "code",
      "metadata": {
        "id": "YGy7Y3C6awJM",
        "colab_type": "code",
        "colab": {}
      },
      "source": [
        ""
      ],
      "execution_count": null,
      "outputs": []
    },
    {
      "cell_type": "code",
      "metadata": {
        "id": "iMCRsuuuamFZ",
        "colab_type": "code",
        "colab": {
          "base_uri": "https://localhost:8080/",
          "height": 248
        },
        "outputId": "ad14e676-614f-4553-8a66-39e8cbf971a9"
      },
      "source": [
        "# Identify stocks\n",
        "n = 5\n",
        "\n",
        "portfolio_train = X_train_pred[:, ind[:n]]\n",
        "portfolio_test = X_test_pred[:, ind[:n]]\n",
        "\n",
        "# Create portfolio in-sample\n",
        "tracked_index_insample = np.mean(portfolio_train, axis=1)\n",
        "\n",
        "# Create portfolio out-sample\n",
        "tracked_index_outofsample = np.mean(portfolio_test, axis=1)\n",
        "# In-sample\n",
        "plt.figure()\n",
        "plt.plot(index_train, label='Nasdaq100 Index')\n",
        "plt.plot(tracked_index_insample, label='Tracked Index')\n",
        "plt.legend()\n",
        "plt.xlabel('Time (days)')\n",
        "plt.ylabel('Normalized price')\n",
        "plt.show()\n",
        "#plt.savefig('images/vanillaAE_insample.png', bbox_inches='tight')"
      ],
      "execution_count": 104,
      "outputs": [
        {
          "output_type": "error",
          "ename": "NameError",
          "evalue": "ignored",
          "traceback": [
            "\u001b[0;31m---------------------------------------------------------------------------\u001b[0m",
            "\u001b[0;31mNameError\u001b[0m                                 Traceback (most recent call last)",
            "\u001b[0;32m<ipython-input-104-278bd1a79952>\u001b[0m in \u001b[0;36m<module>\u001b[0;34m()\u001b[0m\n\u001b[1;32m     12\u001b[0m \u001b[0;31m# In-sample\u001b[0m\u001b[0;34m\u001b[0m\u001b[0;34m\u001b[0m\u001b[0;34m\u001b[0m\u001b[0m\n\u001b[1;32m     13\u001b[0m \u001b[0mplt\u001b[0m\u001b[0;34m.\u001b[0m\u001b[0mfigure\u001b[0m\u001b[0;34m(\u001b[0m\u001b[0;34m)\u001b[0m\u001b[0;34m\u001b[0m\u001b[0;34m\u001b[0m\u001b[0m\n\u001b[0;32m---> 14\u001b[0;31m \u001b[0mplt\u001b[0m\u001b[0;34m.\u001b[0m\u001b[0mplot\u001b[0m\u001b[0;34m(\u001b[0m\u001b[0mindex_train\u001b[0m\u001b[0;34m,\u001b[0m \u001b[0mlabel\u001b[0m\u001b[0;34m=\u001b[0m\u001b[0;34m'Nasdaq100 Index'\u001b[0m\u001b[0;34m)\u001b[0m\u001b[0;34m\u001b[0m\u001b[0;34m\u001b[0m\u001b[0m\n\u001b[0m\u001b[1;32m     15\u001b[0m \u001b[0mplt\u001b[0m\u001b[0;34m.\u001b[0m\u001b[0mplot\u001b[0m\u001b[0;34m(\u001b[0m\u001b[0mtracked_index_insample\u001b[0m\u001b[0;34m,\u001b[0m \u001b[0mlabel\u001b[0m\u001b[0;34m=\u001b[0m\u001b[0;34m'Tracked Index'\u001b[0m\u001b[0;34m)\u001b[0m\u001b[0;34m\u001b[0m\u001b[0;34m\u001b[0m\u001b[0m\n\u001b[1;32m     16\u001b[0m \u001b[0mplt\u001b[0m\u001b[0;34m.\u001b[0m\u001b[0mlegend\u001b[0m\u001b[0;34m(\u001b[0m\u001b[0;34m)\u001b[0m\u001b[0;34m\u001b[0m\u001b[0;34m\u001b[0m\u001b[0m\n",
            "\u001b[0;31mNameError\u001b[0m: name 'index_train' is not defined"
          ]
        },
        {
          "output_type": "display_data",
          "data": {
            "text/plain": [
              "<Figure size 432x288 with 0 Axes>"
            ]
          },
          "metadata": {
            "tags": []
          }
        }
      ]
    },
    {
      "cell_type": "code",
      "metadata": {
        "id": "OwpSkS4kaoNl",
        "colab_type": "code",
        "colab": {}
      },
      "source": [
        ""
      ],
      "execution_count": null,
      "outputs": []
    }
  ]
}